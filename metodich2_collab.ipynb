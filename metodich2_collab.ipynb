{
  "nbformat": 4,
  "nbformat_minor": 0,
  "metadata": {
    "kernelspec": {
      "display_name": "Python 3",
      "language": "python",
      "name": "python3"
    },
    "language_info": {
      "codemirror_mode": {
        "name": "ipython",
        "version": 3
      },
      "file_extension": ".py",
      "mimetype": "text/x-python",
      "name": "python",
      "nbconvert_exporter": "python",
      "pygments_lexer": "ipython3",
      "version": "3.7.1"
    },
    "colab": {
      "name": "metodich2_collab.ipynb",
      "provenance": [],
      "collapsed_sections": [
        "NRSQbmXD9U98",
        "m2wW13WB9U99",
        "v6h1K5ET9U9_"
      ]
    },
    "accelerator": "GPU"
  },
  "cells": [
    {
      "cell_type": "markdown",
      "metadata": {
        "id": "XvhEhpGm9U8z"
      },
      "source": [
        "# Введение в искусственные нейронные сети\n",
        "# Урок 2. Keras"
      ]
    },
    {
      "cell_type": "markdown",
      "metadata": {
        "id": "LmKjkEH-9U84"
      },
      "source": [
        "## Содержание методического пособия:\n",
        "\n",
        "\n",
        "<ol>\n",
        "<li>Способы создания нейросетей</li>\n",
        "<li>Что такое Keras</li>\n",
        "<li>Основы синтаксиса</li>\n",
        "<li>Простая нейросеть на Keras</li>\n",
        "</ol>"
      ]
    },
    {
      "cell_type": "markdown",
      "metadata": {
        "id": "9gV6aaON9U86"
      },
      "source": [
        "## Способы создания нейросетей\n",
        "\n",
        "Нейросети это математические модели. Программирую на любом языке можно решать задачи связанные с математикой. Однако встает вопрос какой язык подойдет для этого больше? Не считая учебных нейросетей, нейросети как правило работают с большим количеством данных. Поэтому, чтобы обучение нейросетей происходило с приемлимой скоростью нужно использовать быстрый язык. Например Си. Но так как язык Си это язык с низким уровнем абстракции то программировать и модифицировать на нем нейросети было бы крайне затруднительно. \n",
        "\n",
        "Хорошо может подойти для этих целей язык Python. Так как он с одной стороны имеет высокий уровень абстракции с другой стороны операции с массивами данных могут сделать его библиотеки написанные на Си. Таким способом мы пользовались на первых 2 уроках. Однако если писать нейросети таким образом то будет много повторяющегося кода поскольку архитектуры нейросетей остаются одинаковыми и зачастую у них только меняются параметры. Кроме этого нам может понадобиться хорошо знать архитектуры самых разных нейронных сетей чтобы реализовать их вручную. Работа таким образом затруднительна для людей не имеющих достаточной подготовки, а для имеющих может быть нааборот рутиной.\n",
        "\n",
        "Существуют фреймворки для созданий нейронных сетей. Они являются, пожалуй основным рабочим способом создания нейронных сетей. Вот их неполный перечень:\n",
        "\n",
        "1. TensorFlow\n",
        "2. PyTorch\n",
        "3. Keras\n",
        "4. Microsoft Cognitive Toolkit (CNTK)\n",
        "5. Caffe\n",
        "6. Apache MXNet\n",
        "\n",
        "Упрощение создания нейронных сетей не заканчивается на этих фрейворках. Существуют инструменты которые позволяют создавать нейронные сети без навыков программирования, строя нейросети графически. Примеры: Neural Designer, Deep Learning Studio.\n",
        "\n",
        "Но и на этом не заканчиваются способы создания нейросетей. Существуют инструменты самостоятельно создающие нейронные сети. Это так называемые AutoML инструменты. Вот примеры популярных из них:\n",
        "1. MLBox\n",
        "2. TPOT\n",
        "3. Autokeras\n",
        "\n",
        "Как вы возможно заметили что все эти инструменты отранжированы походы изложения в порядке возрастания уровня абстракции. Соответсвенно говоря о плюсах минусах того или иного инструмента мы должны понимать в принципе плюсы минусы повышения уровня абстракции. Чем он выше тем меньше производительность и тем меньше его гибкость и набоорот.\n",
        "\n",
        "Как уже было сказано наиболее востребованных в рабочих целях является тот уровень абстракции, который дают фреймворки. Будем изучать дальше и пользовать ими. Остается сделать выбор среди них. Самый популярный фреймворк для создания нейросетей TensorFlow. Самый популярный для обучения - Keras. На этом уроке мы изучим с вами Keras, а на следующим TensorFlow. Также стоит отметить, что эти фреймворки взаимосвязаны - Keras как правило работает поверх TensorFlow, а сам TensorFlow позволяет пользовать средствами Keras при необходимости.\n"
      ]
    },
    {
      "cell_type": "markdown",
      "metadata": {
        "id": "b1uUklH29U88"
      },
      "source": [
        "## Что такое Keras\n",
        "\n",
        "Keras появился относительно недавно - в 2015 г. Но за это время стал одним из самых популярных фреймоворков для создания нейросетей и фактически стандартом для использования его начинающими.\n",
        "\n",
        "В чем причина его популярности? Keras позволяет создовать на высоком уровне абстракции. Т.е. на не нужно вручную реализовать с помощью математикаподобного кода те или иные элементы нейронной сети. Мы можем оперировать слоями, количеством нейронов в них, выбором функции активации и т.д. В тоже время keras содержит инструментарий для всего того, что может понадобиться для работы - например ряд встроенных датасетов, возможность обрабатывать изображения.\n",
        "\n",
        "В техническом плане Keras это оболочка над инструментами меньшей степени абстракции. На выбор он может работать поверх TensorFlow, Microsoft Cognitive Toolkit, R, Theano, PlaidML.\n",
        "\n",
        "Keras пользуется также на соревнованиях Kaggle.\n",
        "\n",
        "Однако стоит отметить, что в реальных проектах чаще используется TensorFlow, который мы будем изучать в след. уроках.\n",
        "\n",
        "Keras как и любой высокобастрактный инструмент имеет изъяны в качестве меньшей гибкостью и производительснотью чем тот же tensorflow.\n",
        "\n",
        "Стоит также отметить, что Google официально поддерживает Keras, его автор François Chollet, является сотрудником Google. TensorFlow сам в свою очередь позволяет использовать возможности Keras, т.е. в нем заложена возможность переходить на более высокой уровень абстракции.\n",
        "\n",
        "В данном уроке мы с вами рассмотрим пример обучения нейронной сети с помощью Keras. Но прежде давайте посмотрим на основы синтаксиса Keras и стандартные задачи, которые нужно выполнить при обучении нейронной сети."
      ]
    },
    {
      "cell_type": "markdown",
      "metadata": {
        "id": "iRJ_I6hu9U8-"
      },
      "source": [
        "## Основы синтаксиса"
      ]
    },
    {
      "cell_type": "markdown",
      "metadata": {
        "id": "Sars-tTz9U9A"
      },
      "source": [
        "**Установка и работа с данными**"
      ]
    },
    {
      "cell_type": "markdown",
      "metadata": {
        "id": "8w3sHXOV9U9B"
      },
      "source": [
        "Для начала необходимо установить keras. Надо полагать вы хорошо знакомы с командой pip."
      ]
    },
    {
      "cell_type": "markdown",
      "metadata": {
        "id": "05hfRCv09U9D"
      },
      "source": [
        "sudo python3 pip install keras"
      ]
    },
    {
      "cell_type": "markdown",
      "metadata": {
        "id": "EAwWzAS29U9F"
      },
      "source": [
        "Давайте попробуем получить датасет mnist и проанализировать его содержимое.\n",
        "Это еще не будет синтаксис Keras, но это часто встречающаяся задача. Не обращайте внимание на предупреждения от TensorFlow. Их часто бывает много и их можно подавить при необходимости."
      ]
    },
    {
      "cell_type": "markdown",
      "metadata": {
        "id": "iKgNxL4G9U9H"
      },
      "source": [
        "    import numpy as np\n",
        "    import mnist\n",
        "    import keras\n",
        "\n",
        "    # The first time you run this might be a bit slow, since the\n",
        "    # mnist package has to download and cache the data.\n",
        "    train_images = mnist.train_images()\n",
        "    train_labels = mnist.train_labels()\n",
        "\n",
        "    print(train_images.shape) # (60000, 28, 28)\n",
        "    print(train_labels.shape) # (60000,)"
      ]
    },
    {
      "cell_type": "markdown",
      "metadata": {
        "id": "F_3tRtvg9U9J"
      },
      "source": [
        "Что в данном случае мы смогли с вами узнать? Что тренировочный датасет mnist состоит из 60000 изображений 28 на 28 пикселей. Такие небольшие датасеты с маленькими изображениями встретятся вам и в других учебных датасетах."
      ]
    },
    {
      "cell_type": "markdown",
      "metadata": {
        "id": "DZiKILQd9U9L"
      },
      "source": [
        "Что нам нужно делать теперь? Если датасет не имеет разделения на тренировочный и тестовый то поделить их. В нашем случае наш тренировочный датасет состоит из 60 000 изображений и тестовый из 10 000 и они поделены по умолчанию.\n",
        "\n",
        "Нам теперь нужно конверитировать значения пикселей из вида от 1 до 255 в набор значений от -0.5 до 0.5.\n",
        "\n"
      ]
    },
    {
      "cell_type": "code",
      "metadata": {
        "id": "TQMMZ_jw9U9N",
        "colab": {
          "base_uri": "https://localhost:8080/"
        },
        "outputId": "d7c6cf7d-caf6-4473-e107-c766b6d244e6"
      },
      "source": [
        "import numpy as np\n",
        "#import mnist\n",
        "# import tensorflow as tf\n",
        "# import tf.kears as keras\n",
        "import keras\n",
        "from keras.datasets import mnist, boston_housing, fashion_mnist  # наборы для работы\n",
        "\n",
        "#train_images = mnist.train_images()\n",
        "#train_labels = mnist.train_labels()\n",
        "#test_images = mnist.test_images()\n",
        "#test_labels = mnist.test_labels()\n",
        "\n",
        "(train_imagesi,train_labels),(test_imagesi,testn_labels)=mnist.load_data()\n",
        "\n",
        "# Normalize the images.\n",
        "train_imagesi = (train_imagesi / 127) - 1\n",
        "test_imagesi = (test_imagesi / 127) - 1\n",
        "\n",
        "# Flatten the images.\n",
        "train_images = train_imagesi.reshape((-1, 784))\n",
        "test_images = test_imagesi.reshape((-1, 784))\n",
        "\n",
        "print(train_images.shape) # (60000, 784)\n",
        "print(test_images.shape)  # (10000, 784)"
      ],
      "execution_count": 1,
      "outputs": [
        {
          "output_type": "stream",
          "text": [
            "Downloading data from https://storage.googleapis.com/tensorflow/tf-keras-datasets/mnist.npz\n",
            "11493376/11490434 [==============================] - 0s 0us/step\n",
            "11501568/11490434 [==============================] - 0s 0us/step\n",
            "(60000, 784)\n",
            "(10000, 784)\n"
          ],
          "name": "stdout"
        }
      ]
    },
    {
      "cell_type": "code",
      "metadata": {
        "id": "3fwDFMMPJDFE",
        "colab": {
          "base_uri": "https://localhost:8080/",
          "height": 35
        },
        "outputId": "074503e5-1a33-4ce2-b9d2-1a96cb9fe39c"
      },
      "source": [
        "keras.backend.backend()"
      ],
      "execution_count": 2,
      "outputs": [
        {
          "output_type": "execute_result",
          "data": {
            "application/vnd.google.colaboratory.intrinsic+json": {
              "type": "string"
            },
            "text/plain": [
              "'tensorflow'"
            ]
          },
          "metadata": {
            "tags": []
          },
          "execution_count": 2
        }
      ]
    },
    {
      "cell_type": "code",
      "metadata": {
        "id": "Jp0WM1sS1DFX"
      },
      "source": [
        "import matplotlib.pyplot as plt"
      ],
      "execution_count": 3,
      "outputs": []
    },
    {
      "cell_type": "code",
      "metadata": {
        "colab": {
          "base_uri": "https://localhost:8080/",
          "height": 282
        },
        "id": "1GG9Z5HDEEWW",
        "outputId": "974e8a45-7481-4437-b3a0-bb4397ecfc66"
      },
      "source": [
        "plt.imshow(train_imagesi[22,:,:])\n",
        "plt.show()\n",
        "print(train_labels[22])"
      ],
      "execution_count": 4,
      "outputs": [
        {
          "output_type": "display_data",
          "data": {
            "image/png": "[encoded data removed]",
            "text/plain": [
              "<Figure size 432x288 with 1 Axes>"
            ]
          },
          "metadata": {
            "tags": [],
            "needs_background": "light"
          }
        },
        {
          "output_type": "stream",
          "text": [
            "9\n"
          ],
          "name": "stdout"
        }
      ]
    },
    {
      "cell_type": "code",
      "metadata": {
        "colab": {
          "base_uri": "https://localhost:8080/"
        },
        "id": "t58_YKCl38rz",
        "outputId": "29c75ceb-9f4a-4464-8733-0549561c05e7"
      },
      "source": [
        "train_labels[:12]"
      ],
      "execution_count": 5,
      "outputs": [
        {
          "output_type": "execute_result",
          "data": {
            "text/plain": [
              "array([5, 0, 4, 1, 9, 2, 1, 3, 1, 4, 3, 5], dtype=uint8)"
            ]
          },
          "metadata": {
            "tags": []
          },
          "execution_count": 5
        }
      ]
    },
    {
      "cell_type": "code",
      "metadata": {
        "colab": {
          "base_uri": "https://localhost:8080/"
        },
        "id": "1_Ae7niGnjb6",
        "outputId": "47a0d71e-57ba-486c-cbe2-d08b0277ea98"
      },
      "source": [
        "train_images[202,150:160]"
      ],
      "execution_count": 6,
      "outputs": [
        {
          "output_type": "execute_result",
          "data": {
            "text/plain": [
              "array([-1.        , -1.        , -1.        , -1.        , -1.        ,\n",
              "       -0.90551181, -0.80314961, -0.80314961, -0.80314961, -0.80314961])"
            ]
          },
          "metadata": {
            "tags": []
          },
          "execution_count": 6
        }
      ]
    },
    {
      "cell_type": "markdown",
      "metadata": {
        "id": "Y6btW5Oz9U9W"
      },
      "source": [
        "**Создание модели**"
      ]
    },
    {
      "cell_type": "markdown",
      "metadata": {
        "id": "jgVdsO619U9Y"
      },
      "source": [
        "После первичной подготовки данных дальше как правило следует создание модели нейронной сети, которая будет учиться на этих данных.\n",
        "\n",
        "Ниже типичный код учебной нейросети - "
      ]
    },
    {
      "cell_type": "markdown",
      "metadata": {
        "id": "rfu5k2FX9U9a"
      },
      "source": [
        "    # define the keras model\n",
        "    model = Sequential()\n",
        "    model.add(Dense(12, input_dim=8, activation='relu'))\n",
        "    model.add(Dense(8, activation='relu'))\n",
        "    model.add(Dense(1, activation='sigmoid'))"
      ]
    },
    {
      "cell_type": "markdown",
      "metadata": {
        "id": "lb6IkKpN9U9c"
      },
      "source": [
        "Давайте разберемся с теми командами, которые нам встетились в этом коде.\n",
        "\n",
        "Sequential - позволяет создать нейросети где слои имеют форму стека. Сигнал в них передается от одного слоя к другому. В противовес этой разновидности есть нейросети где сигнал может не сразу передаваться в следующий слой а попадать в цикл. Такие нейросети мы разберем в следующих уроках.\n",
        "\n",
        "Dense - позволяет каждому нейронну быть связанному с другим нейронном. В противовес этом может быть необходимость не делать так много связей. Неполносвязнные архитектуры мы также разберем на этом курсе, они основа компьютерного зрения.\n",
        "\n",
        "Цифры 12, 8, 1 обозначают количество нейронов в каждом конкретном слое\n",
        "\n",
        "Activation - позволяет определить формулу по которой будет активироваться нейрон."
      ]
    },
    {
      "cell_type": "markdown",
      "metadata": {
        "id": "iVWaIK2l9U9e"
      },
      "source": [
        "**Компиляция модели**\n",
        "\n",
        "На этапе компиляции модель с заданными параметрами ранее создается. Вот типичный учебный пример:"
      ]
    },
    {
      "cell_type": "markdown",
      "metadata": {
        "id": "B6m5CF1l9U9g"
      },
      "source": [
        "    \n",
        "    # создание keras модели\n",
        "    model.compile(loss='binary_crossentropy', optimizer='adam', metrics=['accuracy'])"
      ]
    },
    {
      "cell_type": "markdown",
      "metadata": {
        "id": "IDbetrHA9U9i"
      },
      "source": [
        "Однако на этой стадии мы должны сделать еще некоторые настройки нейронной сети. Разберем команды из кода выше.\n",
        "\n",
        "loss - позволяет задать формулы по которой будет определяться степень ошибки нейронной сети.\n",
        "\n",
        "optimizer - позволяет задать алгоритм, который будет осуществлять изменения весов по всей нейронной сети (backpropagation)\n",
        "\n",
        "metrics - позволяет опредилить кретирии по которым будет оцениваться степень обученности нейросети.\n",
        "    \n",
        "    "
      ]
    },
    {
      "cell_type": "markdown",
      "metadata": {
        "id": "KH-Cy6Iy9U9l"
      },
      "source": [
        "**Передача данных для обучения нейросети**\n",
        "\n",
        "После того как нейросеть создана можно передавать ей данные для обучения. Ниже типичный пример кода для этого.\n"
      ]
    },
    {
      "cell_type": "markdown",
      "metadata": {
        "id": "TweWbzvu9U9o"
      },
      "source": [
        "    # передача обучающего датасета keras модели\n",
        "    model.fit(X, y, epochs=150, batch_size=10, verbose=0)"
      ]
    },
    {
      "cell_type": "markdown",
      "metadata": {
        "id": "tFt0A6m59U9q"
      },
      "source": [
        "Разберем команды из этого примера.\n",
        "X, y - содержат все обучающие данные\n",
        "epochs - определяет сколько раз через нейросеть должен пройти весь набор данных\n",
        "bath_size - определяет количество обучающих примеров передающихся нейросети на каждой итерации обучения.\n",
        "verbose - позволяет определять информацию, котору вы видете во время обучения нейронной сети."
      ]
    },
    {
      "cell_type": "markdown",
      "metadata": {
        "id": "P7ERG-o79U9s"
      },
      "source": [
        "**Оценка обученности нейронной сети**\n",
        "\n",
        "Следующей стадией может быть проверка обученности нейронной сети. Команда Keras для этих целей - \n",
        "\n",
        "    results = model.evaluate(x_test, y_test, batch_size=128)\n",
        "    \n",
        "В данном случае мы просто указываем какую модель на каких данных мы хотим проверить"
      ]
    },
    {
      "cell_type": "markdown",
      "metadata": {
        "id": "UHT1j0AX9U9t"
      },
      "source": [
        "**Запуск нейронной сети для выполнения работы**\n",
        "\n",
        "На этой стадии мы можем попробовать запустить нейронную сеть на данных которые мы хотели бы чтобы она оценила. Осуществить распознования объекта на фотографии например.\n",
        "Вот код для этих целей - \n",
        "\n",
        "    predictions = model.predict(x_test[:3])\n",
        "    \n",
        "В качестве аргумента здесь указывается массив даныхх содержащих, например фотографию в виде массива чисел.    \n",
        "    "
      ]
    },
    {
      "cell_type": "markdown",
      "metadata": {
        "id": "LoL6FC9I9U9v"
      },
      "source": [
        "Мы с вами рассмотрели основные стадии процесса обучения нейросети и команды Keras, для этого. Безусловно здесь приведен далеко неполный перечень возможностей Keras. У Keras есть также возможность сохранять созданную нейросеть, запускать уже имеющиюся, различные средства для создания нейросетей разных архитектур и другое. С чем то из арсенала Keras мы с вами познакомимся по ходу курса, а с остальным вы можете познакомиться на сайте Keras в разделе документация."
      ]
    },
    {
      "cell_type": "markdown",
      "metadata": {
        "id": "jnUt9U3_9U9x"
      },
      "source": [
        "## Простая нейросеть на Keras"
      ]
    },
    {
      "cell_type": "markdown",
      "metadata": {
        "id": "SAa_Lfn89U9y"
      },
      "source": [
        "Давайте попрубуем сделать нейросеть на Keras использую полученные выше знания. Попробуем обучить нейросеть различать рукописные цифры."
      ]
    },
    {
      "cell_type": "code",
      "metadata": {
        "id": "hf6f_oe7EH7A"
      },
      "source": [
        "# Код нейронной сети в Keras!\n",
        "###############################\n",
        "import numpy as np\n",
        "#import mnist\n",
        "from keras.models import Sequential\n",
        "from keras.layers import Dense\n",
        "from keras.datasets import mnist\n",
        "from tensorflow.keras.utils import to_categorical\n",
        "\n"
      ],
      "execution_count": 7,
      "outputs": []
    },
    {
      "cell_type": "code",
      "metadata": {
        "id": "hFo1_J0eEQ9k"
      },
      "source": [
        "\n",
        "(train_imagesi,train_labels),(test_imagesi,test_labels)=mnist.load_data()\n",
        "\n",
        "# можно брать mnist из специальной библиотеки\n",
        "#train_images = mnist.train_images()\n",
        "#train_labels = mnist.train_labels()\n",
        "#test_images = mnist.test_images()\n",
        "#test_labels = mnist.test_labels()\n",
        "\n",
        "# приведем изображение к диапазону (-1,1).\n",
        "train_images = (train_imagesi / 127) - 1\n",
        "test_images = (test_imagesi / 127) - 1\n",
        "\n",
        "# делаем векторизацию, т.к. наши слои полносвязные и хотят на вход вектор.\n",
        "train_images = train_images.reshape((-1, 784))\n",
        "test_images = test_images.reshape((-1, 784))"
      ],
      "execution_count": 8,
      "outputs": []
    },
    {
      "cell_type": "markdown",
      "metadata": {
        "id": "rlO6abtO0oFX"
      },
      "source": [
        "Размер набора входных данных для обучения "
      ]
    },
    {
      "cell_type": "code",
      "metadata": {
        "id": "XLsN2KNiNHEf",
        "colab": {
          "base_uri": "https://localhost:8080/"
        },
        "outputId": "3b15f457-c52c-4e4b-ff33-70b8405a8926"
      },
      "source": [
        "train_images.shape"
      ],
      "execution_count": 9,
      "outputs": [
        {
          "output_type": "execute_result",
          "data": {
            "text/plain": [
              "(60000, 784)"
            ]
          },
          "metadata": {
            "tags": []
          },
          "execution_count": 9
        }
      ]
    },
    {
      "cell_type": "markdown",
      "metadata": {
        "id": "eHplAiIbpDLE"
      },
      "source": [
        "Собираем сеть по слоям через .add()"
      ]
    },
    {
      "cell_type": "code",
      "metadata": {
        "id": "b0-xDKrNHNrv"
      },
      "source": [
        "model1 = Sequential(name='my_model')\n",
        "model1.add(Dense(      128, activation='relu', input_shape=(784,)))  \n",
        "# входной слой + поносвязный слой из 128 нейронов с активацией ReLU\n",
        "for k in range(2):\n",
        "  model1.add(Dense(  10+(10-k)*10, activation='tanh')) \n",
        "  # Скрытый слой k из 10+(10-k)*10 нейронов с активацией tanh\n",
        "\n",
        "model1.add(Dense(10, activation='softmax')) \n",
        "# выходной слой из 10 нейронов (сколько классов, столько нейронов) + активация softmax"
      ],
      "execution_count": 10,
      "outputs": []
    },
    {
      "cell_type": "code",
      "metadata": {
        "id": "WjoJONokxO70"
      },
      "source": [
        "#keras.losses.SparseCategoricalCrossentropy().\n",
        "#keras.losses.categorical_crossentropy()\n",
        "# keras.metrics.accuracy"
      ],
      "execution_count": 11,
      "outputs": []
    },
    {
      "cell_type": "markdown",
      "metadata": {
        "id": "oZG48jgOpNmT"
      },
      "source": [
        "Компилируем сеть с оптимизатором , функцией потерь и метрикой:"
      ]
    },
    {
      "cell_type": "code",
      "metadata": {
        "id": "6pZ5taUWHke6"
      },
      "source": [
        "model1.compile(\n",
        "  optimizer='adam', # оптимизатор\n",
        "  loss=keras.losses.CategoricalCrossentropy(), # функция потерь\n",
        "  metrics=['accuracy'], # метрика\n",
        ") "
      ],
      "execution_count": 12,
      "outputs": []
    },
    {
      "cell_type": "markdown",
      "metadata": {
        "id": "d9Gi-C5ddKKL"
      },
      "source": [
        "Оптимизаторы:\n",
        "* SGD() (с или без моментум)\n",
        "* RMSprop()\n",
        "* Adam()\n",
        "* Adagrad()\n",
        "…\n",
        "\n",
        "Функции потерь:\n",
        "* CategoricalCrossentropy()\n",
        "* SparseCategoricalCrossentropy()\n",
        "* BinaryCrossentropy()\n",
        "* MeanSquaredError()\n",
        "* KLDivergence()\n",
        "* CosineSimilarity()\n",
        "…\n",
        "\n",
        "Метрики:\n",
        "* CategoricalAccuracy()\n",
        "* SparseCategoricalAccuracy()\n",
        "* BinaryAccuracy()\n",
        "* AUC()\n",
        "* Precision()\n",
        "* Recall()\n",
        "…"
      ]
    },
    {
      "cell_type": "markdown",
      "metadata": {
        "id": "kaOhpafIpZ5l"
      },
      "source": [
        "ПОсмотрим из чего она состоит:"
      ]
    },
    {
      "cell_type": "code",
      "metadata": {
        "colab": {
          "base_uri": "https://localhost:8080/"
        },
        "id": "MdAHcWIoE8rf",
        "outputId": "15394364-9e9f-477c-b32f-f9aaeb3708e0"
      },
      "source": [
        "model1.summary()"
      ],
      "execution_count": 13,
      "outputs": [
        {
          "output_type": "stream",
          "text": [
            "Model: \"my_model\"\n",
            "_________________________________________________________________\n",
            "Layer (type)                 Output Shape              Param #   \n",
            "=================================================================\n",
            "dense (Dense)                (None, 128)               100480    \n",
            "_________________________________________________________________\n",
            "dense_1 (Dense)              (None, 110)               14190     \n",
            "_________________________________________________________________\n",
            "dense_2 (Dense)              (None, 100)               11100     \n",
            "_________________________________________________________________\n",
            "dense_3 (Dense)              (None, 10)                1010      \n",
            "=================================================================\n",
            "Total params: 126,780\n",
            "Trainable params: 126,780\n",
            "Non-trainable params: 0\n",
            "_________________________________________________________________\n"
          ],
          "name": "stdout"
        }
      ]
    },
    {
      "cell_type": "markdown",
      "metadata": {
        "id": "i2YcWu0upeWi"
      },
      "source": [
        "126 780 параметров в сети. Все будем обучать.\n",
        "\n",
        "Как считать параметры слоя: (число входов нейрона +1)*число нейронов\n",
        "\n",
        "\n",
        "Например, для 5 входов и 10 нейронов в слое - число настраиваемых параметров = (5+1)*10 = 60"
      ]
    },
    {
      "cell_type": "markdown",
      "metadata": {
        "id": "f-drP8y5USej"
      },
      "source": [
        "Еще один способ создать линейную модель"
      ]
    },
    {
      "cell_type": "code",
      "metadata": {
        "id": "vT7VLh_SEcZS"
      },
      "source": [
        "\n",
        "# Build the model.\n",
        "model = Sequential([\n",
        "  Dense(128, activation='tanh', input_shape=(784,)),\n",
        "  Dense(110, activation='tanh'), # Скрытый слой из 110 нейронов с активацией tanh\n",
        "  Dense(100, activation='tanh'), # Скрытый слой k из 100 нейронов с активацией tanh\n",
        "  Dense(10, activation='softmax'),# выходной слой из 10 нейронов (сколько классов, столько нейронов) + активация softmax\n",
        "])\n",
        "\n",
        "# Compile the model.\n",
        "model.compile(\n",
        "  optimizer='adam',\n",
        "  loss='categorical_crossentropy',\n",
        "  metrics=['accuracy'],\n",
        ")"
      ],
      "execution_count": 14,
      "outputs": []
    },
    {
      "cell_type": "code",
      "metadata": {
        "id": "O5DOd_RAGZHQ",
        "colab": {
          "base_uri": "https://localhost:8080/"
        },
        "outputId": "0eb088c5-3d4d-431c-a0af-eb277605b3f4"
      },
      "source": [
        "model.summary()"
      ],
      "execution_count": 15,
      "outputs": [
        {
          "output_type": "stream",
          "text": [
            "Model: \"sequential\"\n",
            "_________________________________________________________________\n",
            "Layer (type)                 Output Shape              Param #   \n",
            "=================================================================\n",
            "dense_4 (Dense)              (None, 128)               100480    \n",
            "_________________________________________________________________\n",
            "dense_5 (Dense)              (None, 110)               14190     \n",
            "_________________________________________________________________\n",
            "dense_6 (Dense)              (None, 100)               11100     \n",
            "_________________________________________________________________\n",
            "dense_7 (Dense)              (None, 10)                1010      \n",
            "=================================================================\n",
            "Total params: 126,780\n",
            "Trainable params: 126,780\n",
            "Non-trainable params: 0\n",
            "_________________________________________________________________\n"
          ],
          "name": "stdout"
        }
      ]
    },
    {
      "cell_type": "markdown",
      "metadata": {
        "id": "D-ZKLY37Ulq7"
      },
      "source": [
        "Можно подсмотреть как наша модель описана после ее создания"
      ]
    },
    {
      "cell_type": "code",
      "metadata": {
        "id": "p8zwmaHKzVUH",
        "colab": {
          "base_uri": "https://localhost:8080/"
        },
        "outputId": "64048b26-e1b9-4e25-ae9d-466a81a960db"
      },
      "source": [
        "model.get_config()"
      ],
      "execution_count": 16,
      "outputs": [
        {
          "output_type": "execute_result",
          "data": {
            "text/plain": [
              "{'layers': [{'class_name': 'InputLayer',\n",
              "   'config': {'batch_input_shape': (None, 784),\n",
              "    'dtype': 'float32',\n",
              "    'name': 'dense_4_input',\n",
              "    'ragged': False,\n",
              "    'sparse': False}},\n",
              "  {'class_name': 'Dense',\n",
              "   'config': {'activation': 'tanh',\n",
              "    'activity_regularizer': None,\n",
              "    'batch_input_shape': (None, 784),\n",
              "    'bias_constraint': None,\n",
              "    'bias_initializer': {'class_name': 'Zeros', 'config': {}},\n",
              "    'bias_regularizer': None,\n",
              "    'dtype': 'float32',\n",
              "    'kernel_constraint': None,\n",
              "    'kernel_initializer': {'class_name': 'GlorotUniform',\n",
              "     'config': {'seed': None}},\n",
              "    'kernel_regularizer': None,\n",
              "    'name': 'dense_4',\n",
              "    'trainable': True,\n",
              "    'units': 128,\n",
              "    'use_bias': True}},\n",
              "  {'class_name': 'Dense',\n",
              "   'config': {'activation': 'tanh',\n",
              "    'activity_regularizer': None,\n",
              "    'bias_constraint': None,\n",
              "    'bias_initializer': {'class_name': 'Zeros', 'config': {}},\n",
              "    'bias_regularizer': None,\n",
              "    'dtype': 'float32',\n",
              "    'kernel_constraint': None,\n",
              "    'kernel_initializer': {'class_name': 'GlorotUniform',\n",
              "     'config': {'seed': None}},\n",
              "    'kernel_regularizer': None,\n",
              "    'name': 'dense_5',\n",
              "    'trainable': True,\n",
              "    'units': 110,\n",
              "    'use_bias': True}},\n",
              "  {'class_name': 'Dense',\n",
              "   'config': {'activation': 'tanh',\n",
              "    'activity_regularizer': None,\n",
              "    'bias_constraint': None,\n",
              "    'bias_initializer': {'class_name': 'Zeros', 'config': {}},\n",
              "    'bias_regularizer': None,\n",
              "    'dtype': 'float32',\n",
              "    'kernel_constraint': None,\n",
              "    'kernel_initializer': {'class_name': 'GlorotUniform',\n",
              "     'config': {'seed': None}},\n",
              "    'kernel_regularizer': None,\n",
              "    'name': 'dense_6',\n",
              "    'trainable': True,\n",
              "    'units': 100,\n",
              "    'use_bias': True}},\n",
              "  {'class_name': 'Dense',\n",
              "   'config': {'activation': 'softmax',\n",
              "    'activity_regularizer': None,\n",
              "    'bias_constraint': None,\n",
              "    'bias_initializer': {'class_name': 'Zeros', 'config': {}},\n",
              "    'bias_regularizer': None,\n",
              "    'dtype': 'float32',\n",
              "    'kernel_constraint': None,\n",
              "    'kernel_initializer': {'class_name': 'GlorotUniform',\n",
              "     'config': {'seed': None}},\n",
              "    'kernel_regularizer': None,\n",
              "    'name': 'dense_7',\n",
              "    'trainable': True,\n",
              "    'units': 10,\n",
              "    'use_bias': True}}],\n",
              " 'name': 'sequential'}"
            ]
          },
          "metadata": {
            "tags": []
          },
          "execution_count": 16
        }
      ]
    },
    {
      "cell_type": "markdown",
      "metadata": {
        "id": "Og3zBOXKUt6Q"
      },
      "source": [
        "Превратим выходы в векторые (OHE в keras - from keras.utils import to_categorical)"
      ]
    },
    {
      "cell_type": "code",
      "metadata": {
        "colab": {
          "base_uri": "https://localhost:8080/"
        },
        "id": "r4vfB93ZMa7k",
        "outputId": "a37955df-0394-4c33-cd7f-91762adf91b2"
      },
      "source": [
        "train_labels[:5]"
      ],
      "execution_count": 17,
      "outputs": [
        {
          "output_type": "execute_result",
          "data": {
            "text/plain": [
              "array([5, 0, 4, 1, 9], dtype=uint8)"
            ]
          },
          "metadata": {
            "tags": []
          },
          "execution_count": 17
        }
      ]
    },
    {
      "cell_type": "code",
      "metadata": {
        "id": "fXgYOrUwGwzG"
      },
      "source": [
        "y_t = to_categorical( train_labels)\n",
        "y_tt = to_categorical(test_labels)"
      ],
      "execution_count": 18,
      "outputs": []
    },
    {
      "cell_type": "code",
      "metadata": {
        "colab": {
          "base_uri": "https://localhost:8080/"
        },
        "id": "HWKHT3kpG6yw",
        "outputId": "61963006-3eb0-492b-e5d7-f7054cc12844"
      },
      "source": [
        "y_t[:3,:]"
      ],
      "execution_count": 19,
      "outputs": [
        {
          "output_type": "execute_result",
          "data": {
            "text/plain": [
              "array([[0., 0., 0., 0., 0., 1., 0., 0., 0., 0.],\n",
              "       [1., 0., 0., 0., 0., 0., 0., 0., 0., 0.],\n",
              "       [0., 0., 0., 0., 1., 0., 0., 0., 0., 0.]], dtype=float32)"
            ]
          },
          "metadata": {
            "tags": []
          },
          "execution_count": 19
        }
      ]
    },
    {
      "cell_type": "code",
      "metadata": {
        "colab": {
          "base_uri": "https://localhost:8080/"
        },
        "id": "13v9kMf5Ouq_",
        "outputId": "96b637d2-803f-4658-9c6e-39e609319aef"
      },
      "source": [
        "train_labels[:5]"
      ],
      "execution_count": 20,
      "outputs": [
        {
          "output_type": "execute_result",
          "data": {
            "text/plain": [
              "array([5, 0, 4, 1, 9], dtype=uint8)"
            ]
          },
          "metadata": {
            "tags": []
          },
          "execution_count": 20
        }
      ]
    },
    {
      "cell_type": "markdown",
      "metadata": {
        "id": "Xk1EavOKVBqI"
      },
      "source": [
        "Посмотрим на реакции модели до обучения - уже можно:)"
      ]
    },
    {
      "cell_type": "code",
      "metadata": {
        "id": "x6q31tJQLuol"
      },
      "source": [
        "y_pred = model.predict(test_images[:5,:])"
      ],
      "execution_count": 21,
      "outputs": []
    },
    {
      "cell_type": "code",
      "metadata": {
        "colab": {
          "base_uri": "https://localhost:8080/"
        },
        "id": "qM07Ce8IMKPh",
        "outputId": "ead92ec8-4560-4e06-fc92-927caafa4249"
      },
      "source": [
        "y_pred[0,:].sum()"
      ],
      "execution_count": 22,
      "outputs": [
        {
          "output_type": "execute_result",
          "data": {
            "text/plain": [
              "1.0000001"
            ]
          },
          "metadata": {
            "tags": []
          },
          "execution_count": 22
        }
      ]
    },
    {
      "cell_type": "code",
      "metadata": {
        "colab": {
          "base_uri": "https://localhost:8080/"
        },
        "id": "iFZ8fTdWL-2x",
        "outputId": "ca0427f8-2fba-4ade-e542-c9b19617c6a9"
      },
      "source": [
        "y_class = np.argmax(y_pred, axis=1)\n",
        "print(y_class) # [7, 2, 1, 0, 4]"
      ],
      "execution_count": 23,
      "outputs": [
        {
          "output_type": "stream",
          "text": [
            "[4 4 4 4 4]\n"
          ],
          "name": "stdout"
        }
      ]
    },
    {
      "cell_type": "code",
      "metadata": {
        "colab": {
          "base_uri": "https://localhost:8080/",
          "height": 281
        },
        "id": "4XpTnd6bO2lt",
        "outputId": "4771f7dd-2e31-41eb-ca01-2bc5799bdfcc"
      },
      "source": [
        "n = 1\n",
        "plt.imshow(test_imagesi[n,:,:])\n",
        "plt.title('цифра - '+str(y_class[n]))\n",
        "plt.show()"
      ],
      "execution_count": 24,
      "outputs": [
        {
          "output_type": "display_data",
          "data": {
            "image/png": "[encoded data removed]",
            "text/plain": [
              "<Figure size 432x288 with 1 Axes>"
            ]
          },
          "metadata": {
            "tags": [],
            "needs_background": "light"
          }
        }
      ]
    },
    {
      "cell_type": "markdown",
      "metadata": {
        "id": "emVGoAdNVSK-"
      },
      "source": [
        "Сделаем цикл тренировки модели"
      ]
    },
    {
      "cell_type": "code",
      "metadata": {
        "id": "9lCF4zXv9U90",
        "colab": {
          "base_uri": "https://localhost:8080/"
        },
        "outputId": "476e56da-811d-40ec-dc21-a841c031bae9"
      },
      "source": [
        "\n",
        "# Train the model.\n",
        "model1.fit(  \n",
        "  train_images[:,:],\n",
        "\n",
        "  y_t[:,:],\n",
        "  epochs=15,\n",
        "  batch_size=32, validation_split=0.2\n",
        ")\n",
        "\n",
        "# Evaluate the model.\n",
        "model1.evaluate( \n",
        "  test_images,\n",
        "  y_tt\n",
        ")\n",
        "\n",
        "# Predict on the first 5 test images.\n",
        "predictions = model.predict(test_images[:5])\n",
        "\n",
        "# Print our model's predictions.\n",
        "print(np.argmax(predictions, axis=1)) # [7, 2, 1, 0, 4]\n",
        "\n",
        "# Check our predictions against the ground truths.\n",
        "print(test_labels[:5]) # [7, 2, 1, 0, 4]"
      ],
      "execution_count": 25,
      "outputs": [
        {
          "output_type": "stream",
          "text": [
            "Epoch 1/15\n",
            "1500/1500 [==============================] - 10s 3ms/step - loss: 0.4966 - accuracy: 0.8481 - val_loss: 0.1657 - val_accuracy: 0.9499\n",
            "Epoch 2/15\n",
            "1500/1500 [==============================] - 4s 3ms/step - loss: 0.1712 - accuracy: 0.9471 - val_loss: 0.1830 - val_accuracy: 0.9446\n",
            "Epoch 3/15\n",
            "1500/1500 [==============================] - 4s 3ms/step - loss: 0.1339 - accuracy: 0.9588 - val_loss: 0.1252 - val_accuracy: 0.9626\n",
            "Epoch 4/15\n",
            "1500/1500 [==============================] - 4s 3ms/step - loss: 0.1125 - accuracy: 0.9643 - val_loss: 0.1157 - val_accuracy: 0.9653\n",
            "Epoch 5/15\n",
            "1500/1500 [==============================] - 4s 3ms/step - loss: 0.0925 - accuracy: 0.9700 - val_loss: 0.1220 - val_accuracy: 0.9645\n",
            "Epoch 6/15\n",
            "1500/1500 [==============================] - 4s 3ms/step - loss: 0.0925 - accuracy: 0.9699 - val_loss: 0.1204 - val_accuracy: 0.9635\n",
            "Epoch 7/15\n",
            "1500/1500 [==============================] - 4s 3ms/step - loss: 0.0755 - accuracy: 0.9751 - val_loss: 0.1129 - val_accuracy: 0.9662\n",
            "Epoch 8/15\n",
            "1500/1500 [==============================] - 4s 2ms/step - loss: 0.0696 - accuracy: 0.9765 - val_loss: 0.1089 - val_accuracy: 0.9693\n",
            "Epoch 9/15\n",
            "1500/1500 [==============================] - 4s 2ms/step - loss: 0.0636 - accuracy: 0.9793 - val_loss: 0.1225 - val_accuracy: 0.9651\n",
            "Epoch 10/15\n",
            "1500/1500 [==============================] - 4s 2ms/step - loss: 0.0647 - accuracy: 0.9781 - val_loss: 0.1136 - val_accuracy: 0.9684\n",
            "Epoch 11/15\n",
            "1500/1500 [==============================] - 4s 2ms/step - loss: 0.0564 - accuracy: 0.9823 - val_loss: 0.1097 - val_accuracy: 0.9706\n",
            "Epoch 12/15\n",
            "1500/1500 [==============================] - 4s 2ms/step - loss: 0.0518 - accuracy: 0.9832 - val_loss: 0.1479 - val_accuracy: 0.9588\n",
            "Epoch 13/15\n",
            "1500/1500 [==============================] - 4s 2ms/step - loss: 0.0539 - accuracy: 0.9825 - val_loss: 0.1086 - val_accuracy: 0.9674\n",
            "Epoch 14/15\n",
            "1500/1500 [==============================] - 4s 2ms/step - loss: 0.0499 - accuracy: 0.9829 - val_loss: 0.1289 - val_accuracy: 0.9636\n",
            "Epoch 15/15\n",
            "1500/1500 [==============================] - 4s 2ms/step - loss: 0.0532 - accuracy: 0.9835 - val_loss: 0.1339 - val_accuracy: 0.9640\n",
            "313/313 [==============================] - 1s 2ms/step - loss: 0.1366 - accuracy: 0.9615\n",
            "[4 4 4 4 4]\n",
            "[7 2 1 0 4]\n"
          ],
          "name": "stdout"
        }
      ]
    },
    {
      "cell_type": "markdown",
      "metadata": {
        "id": "CUndBqeOVY1_"
      },
      "source": [
        "И можем еще один добавить (продолжаем от предществующего состояния)"
      ]
    },
    {
      "cell_type": "code",
      "metadata": {
        "colab": {
          "base_uri": "https://localhost:8080/"
        },
        "id": "z3Qc2u0mHfBJ",
        "outputId": "a08862e0-e7dd-4e16-955f-33f6f747daef"
      },
      "source": [
        "model.fit(\n",
        "  train_images,\n",
        "  y_t,\n",
        "  epochs=3,\n",
        "  batch_size=1024, validation_split=0.2\n",
        ")"
      ],
      "execution_count": 26,
      "outputs": [
        {
          "output_type": "stream",
          "text": [
            "Epoch 1/3\n",
            "47/47 [==============================] - 1s 11ms/step - loss: 1.3255 - accuracy: 0.6066 - val_loss: 0.3390 - val_accuracy: 0.9057\n",
            "Epoch 2/3\n",
            "47/47 [==============================] - 0s 6ms/step - loss: 0.3212 - accuracy: 0.9078 - val_loss: 0.2379 - val_accuracy: 0.9325\n",
            "Epoch 3/3\n",
            "47/47 [==============================] - 0s 6ms/step - loss: 0.2349 - accuracy: 0.9317 - val_loss: 0.1922 - val_accuracy: 0.9427\n"
          ],
          "name": "stdout"
        },
        {
          "output_type": "execute_result",
          "data": {
            "text/plain": [
              "<keras.callbacks.History at 0x7f350fda8450>"
            ]
          },
          "metadata": {
            "tags": []
          },
          "execution_count": 26
        }
      ]
    },
    {
      "cell_type": "markdown",
      "metadata": {
        "id": "EpxXh0NiVg8p"
      },
      "source": [
        "Сохраним модель на диск"
      ]
    },
    {
      "cell_type": "code",
      "metadata": {
        "id": "He1a5EemElpX"
      },
      "source": [
        "# сохранить веса модели.\n",
        "model.save_weights('model.h5')\n",
        "\n",
        "# загрузить веса модели:\n",
        "# model.load_weights('model.h5')\n"
      ],
      "execution_count": 27,
      "outputs": []
    },
    {
      "cell_type": "markdown",
      "metadata": {
        "id": "P5MHvkloVkqj"
      },
      "source": [
        "И еще тренируем (вторую модель)"
      ]
    },
    {
      "cell_type": "code",
      "metadata": {
        "id": "1koJ2ivjLOrO",
        "colab": {
          "base_uri": "https://localhost:8080/"
        },
        "outputId": "4563a37d-3eda-46ed-eb4a-bc6696c67730"
      },
      "source": [
        "\n",
        "# Train the model. Вернем результаты по потерям и метрикам для всех эпох в hh \n",
        "hh = model1.fit( \n",
        "  train_images,\n",
        "  to_categorical(train_labels),\n",
        "  epochs=15,\n",
        "  batch_size=32, validation_split=0.2\n",
        ")\n",
        "\n",
        "# Evaluate the model.\n",
        "model1.evaluate(\n",
        "  test_images,\n",
        "  to_categorical(test_labels)\n",
        ")\n",
        "\n",
        "# Predict on the first 5 test images.\n",
        "predictions = model1.predict(test_images[:5])\n",
        "\n",
        "# Print our model's predictions.\n",
        "print(np.argmax(predictions, axis=1)) # [7, 2, 1, 0, 4]\n",
        "\n",
        "# Check our predictions against the ground truths.\n",
        "print(test_labels[:5]) # [7, 2, 1, 0, 4]"
      ],
      "execution_count": 28,
      "outputs": [
        {
          "output_type": "stream",
          "text": [
            "Epoch 1/15\n",
            "1500/1500 [==============================] - 4s 3ms/step - loss: 0.0492 - accuracy: 0.9840 - val_loss: 0.1200 - val_accuracy: 0.9672\n",
            "Epoch 2/15\n",
            "1500/1500 [==============================] - 4s 3ms/step - loss: 0.0478 - accuracy: 0.9848 - val_loss: 0.1085 - val_accuracy: 0.9719\n",
            "Epoch 3/15\n",
            "1500/1500 [==============================] - 4s 3ms/step - loss: 0.0466 - accuracy: 0.9846 - val_loss: 0.1105 - val_accuracy: 0.9698\n",
            "Epoch 4/15\n",
            "1500/1500 [==============================] - 4s 2ms/step - loss: 0.0458 - accuracy: 0.9841 - val_loss: 0.1131 - val_accuracy: 0.9693\n",
            "Epoch 5/15\n",
            "1500/1500 [==============================] - 4s 2ms/step - loss: 0.0478 - accuracy: 0.9845 - val_loss: 0.1236 - val_accuracy: 0.9671\n",
            "Epoch 6/15\n",
            "1500/1500 [==============================] - 4s 3ms/step - loss: 0.0441 - accuracy: 0.9853 - val_loss: 0.1081 - val_accuracy: 0.9728\n",
            "Epoch 7/15\n",
            "1500/1500 [==============================] - 4s 2ms/step - loss: 0.0471 - accuracy: 0.9845 - val_loss: 0.1020 - val_accuracy: 0.9743\n",
            "Epoch 8/15\n",
            "1500/1500 [==============================] - 4s 2ms/step - loss: 0.0405 - accuracy: 0.9859 - val_loss: 0.1172 - val_accuracy: 0.9716\n",
            "Epoch 9/15\n",
            "1500/1500 [==============================] - 4s 2ms/step - loss: 0.0410 - accuracy: 0.9869 - val_loss: 0.1463 - val_accuracy: 0.9634\n",
            "Epoch 10/15\n",
            "1500/1500 [==============================] - 4s 2ms/step - loss: 0.0374 - accuracy: 0.9877 - val_loss: 0.1127 - val_accuracy: 0.9697\n",
            "Epoch 11/15\n",
            "1500/1500 [==============================] - 4s 2ms/step - loss: 0.0405 - accuracy: 0.9864 - val_loss: 0.1109 - val_accuracy: 0.9733\n",
            "Epoch 12/15\n",
            "1500/1500 [==============================] - 4s 2ms/step - loss: 0.0371 - accuracy: 0.9879 - val_loss: 0.1107 - val_accuracy: 0.9737\n",
            "Epoch 13/15\n",
            "1500/1500 [==============================] - 4s 2ms/step - loss: 0.0364 - accuracy: 0.9883 - val_loss: 0.1055 - val_accuracy: 0.9737\n",
            "Epoch 14/15\n",
            "1500/1500 [==============================] - 4s 3ms/step - loss: 0.0403 - accuracy: 0.9873 - val_loss: 0.1223 - val_accuracy: 0.9678\n",
            "Epoch 15/15\n",
            "1500/1500 [==============================] - 5s 3ms/step - loss: 0.0402 - accuracy: 0.9868 - val_loss: 0.1013 - val_accuracy: 0.9732\n",
            "313/313 [==============================] - 1s 3ms/step - loss: 0.1051 - accuracy: 0.9707\n",
            "[7 2 1 0 4]\n",
            "[7 2 1 0 4]\n"
          ],
          "name": "stdout"
        }
      ]
    },
    {
      "cell_type": "markdown",
      "metadata": {
        "id": "Ckh_q63TvAja"
      },
      "source": [
        "Посмотрим на возвращаемый словарь hh.history (там результаты по эпохам для потерь и метрик по обучению и тестам)"
      ]
    },
    {
      "cell_type": "code",
      "metadata": {
        "colab": {
          "base_uri": "https://localhost:8080/"
        },
        "id": "myewLXE4KTZ6",
        "outputId": "0f04d3c9-81e3-4502-e878-8094d9349667"
      },
      "source": [
        "hh.history"
      ],
      "execution_count": 29,
      "outputs": [
        {
          "output_type": "execute_result",
          "data": {
            "text/plain": [
              "{'accuracy': [0.9839791655540466,\n",
              "  0.9847916960716248,\n",
              "  0.984624981880188,\n",
              "  0.9840624928474426,\n",
              "  0.9845208525657654,\n",
              "  0.9852708578109741,\n",
              "  0.984499990940094,\n",
              "  0.9859166741371155,\n",
              "  0.9868749976158142,\n",
              "  0.987708330154419,\n",
              "  0.9864166378974915,\n",
              "  0.9879166483879089,\n",
              "  0.9882500171661377,\n",
              "  0.9873124957084656,\n",
              "  0.9867500066757202],\n",
              " 'loss': [0.04922185093164444,\n",
              "  0.047760896384716034,\n",
              "  0.046606604009866714,\n",
              "  0.04584724083542824,\n",
              "  0.04781653732061386,\n",
              "  0.04412192106246948,\n",
              "  0.04706808552145958,\n",
              "  0.04050562530755997,\n",
              "  0.04104386270046234,\n",
              "  0.03738062083721161,\n",
              "  0.040510885417461395,\n",
              "  0.0370880626142025,\n",
              "  0.0364040844142437,\n",
              "  0.040349554270505905,\n",
              "  0.04022088274359703],\n",
              " 'val_accuracy': [0.9672499895095825,\n",
              "  0.971916675567627,\n",
              "  0.9698333144187927,\n",
              "  0.9693333506584167,\n",
              "  0.9670833349227905,\n",
              "  0.9727500081062317,\n",
              "  0.9742500185966492,\n",
              "  0.9715833067893982,\n",
              "  0.9634166955947876,\n",
              "  0.9696666598320007,\n",
              "  0.9733333587646484,\n",
              "  0.9736666679382324,\n",
              "  0.9737499952316284,\n",
              "  0.9678333401679993,\n",
              "  0.9731666445732117],\n",
              " 'val_loss': [0.12000206857919693,\n",
              "  0.10847451537847519,\n",
              "  0.11048825830221176,\n",
              "  0.11312269419431686,\n",
              "  0.12355423718690872,\n",
              "  0.10809744149446487,\n",
              "  0.10202725976705551,\n",
              "  0.11715584248304367,\n",
              "  0.14632591605186462,\n",
              "  0.11267904937267303,\n",
              "  0.11085990071296692,\n",
              "  0.11069575697183609,\n",
              "  0.10552237927913666,\n",
              "  0.12229391187429428,\n",
              "  0.1013040542602539]}"
            ]
          },
          "metadata": {
            "tags": []
          },
          "execution_count": 29
        }
      ]
    },
    {
      "cell_type": "markdown",
      "metadata": {
        "id": "lJpjFH7hVw8Q"
      },
      "source": [
        "Покажем как выглядит кривая обучения"
      ]
    },
    {
      "cell_type": "code",
      "metadata": {
        "colab": {
          "base_uri": "https://localhost:8080/",
          "height": 458
        },
        "id": "5fBO1Yh2PyIK",
        "outputId": "7cd94ac5-6e59-4435-c71e-05a1dc2961e7"
      },
      "source": [
        "plt.figure(figsize=(15,7))\n",
        "plt.plot(hh.history['loss'], label = 'потери для тренировки')\n",
        "plt.plot(hh.history['val_loss'], label = 'потери для валидации')\n",
        "plt.xlabel('эпох')\n",
        "plt.ylabel('loss')\n",
        "plt.legend()\n",
        "plt.grid('On')\n",
        "plt.title('потери от эпох')\n",
        "plt.show()\n"
      ],
      "execution_count": 30,
      "outputs": [
        {
          "output_type": "display_data",
          "data": {
            "image/png": "[encoded data removed]",
            "text/plain": [
              "<Figure size 1080x504 with 1 Axes>"
            ]
          },
          "metadata": {
            "tags": [],
            "needs_background": "light"
          }
        }
      ]
    },
    {
      "cell_type": "code",
      "metadata": {
        "colab": {
          "base_uri": "https://localhost:8080/"
        },
        "id": "6qh30hSNwohn",
        "outputId": "a4608e90-6f6b-4221-d509-17c14c582417"
      },
      "source": [
        "hh"
      ],
      "execution_count": 31,
      "outputs": [
        {
          "output_type": "execute_result",
          "data": {
            "text/plain": [
              "<keras.callbacks.History at 0x7f350f85ff10>"
            ]
          },
          "metadata": {
            "tags": []
          },
          "execution_count": 31
        }
      ]
    },
    {
      "cell_type": "markdown",
      "metadata": {
        "id": "a8zh5g-GBQIp"
      },
      "source": [
        "Эксперимент с разными оптимизаторами для одной начальной модели:\n",
        "\n",
        "  - создаем модель model\n",
        "  - сохраняем ее веса (это начальная точка) model.save_weights('model.h5')\n",
        "  - создаем рабочую модель modeli куда будем загружать эти вес (она должна быть идентичной структуры) \n",
        "  - загружаем веса modeli.load_weights('model.h5')\n",
        "  - компилируем modeli с одним из оптимизаторов\n",
        "  - вычисляем ошибку для modeli без обучения (т.к. все модели начинают с одной точки, то все ошибки должны быть одинаковые, но будем контролировать это и считаем каждый раз заново)\n",
        "  - проводим обучение модели и пишем ошибки в истории hh\n",
        "  - выводим ошибки для 0-го момента и каждой эпохи обучения по тестовой и валидационной частям данных\n",
        "\n",
        "\n",
        "\n",
        "Оптимизаторы:\n",
        "* SGD() (с или без моментум)\n",
        "* RMSprop()\n",
        "* Adam()\n",
        "* Adagrad()\n",
        "…\n"
      ]
    },
    {
      "cell_type": "code",
      "metadata": {
        "colab": {
          "base_uri": "https://localhost:8080/",
          "height": 458
        },
        "id": "jaqCLGg3w_Nl",
        "outputId": "06017e76-8be1-4612-c7e9-8fef0eacf18c"
      },
      "source": [
        "# создаем модель model\n",
        "model = Sequential([\n",
        "                      Dense( 64, activation='relu', input_shape=(784,)),\n",
        "                      Dense(64, activation='tanh'),\n",
        "                      Dense(10, activation='softmax'),\n",
        "                      ])\n",
        "# сохраняем ее веса (это начальная точка) model.save_weights('model.h5')\n",
        "model.save_weights('model.h5')\n",
        "\n",
        "plt.figure(figsize=(16,7))\n",
        "\n",
        "# число рабочих эпох\n",
        "epochs = 15\n",
        "# вектор для выводв результатов\n",
        "epoch = np.arange(epochs+1)\n",
        "\n",
        "# будем изменять оптимизаторы\n",
        "for i_optim in [keras.optimizers.RMSprop(),keras.optimizers.SGD( ),keras.optimizers.Adam( ),keras.optimizers.Nadam( )]:\n",
        "  # создаем рабочую модель modeli куда будем загружать эти вес (она должна быть идентичной структуры)\n",
        "  modeli = Sequential([\n",
        "                      Dense(64, activation='relu', input_shape=(784,)),\n",
        "                      Dense(64, activation='tanh'),\n",
        "                      Dense(10, activation='softmax'),\n",
        "                      ])\n",
        "  # загружаем веса modeli.load_weights('model.h5')\n",
        "  modeli.load_weights('model.h5')\n",
        "  # компилируем modeli с одним из оптимизаторов\n",
        "  modeli.compile(\n",
        "      optimizer=i_optim,\n",
        "      loss='categorical_crossentropy',\n",
        "      metrics=['accuracy'],\n",
        "      )\n",
        "  # вычисляем ошибку для modeli без обучения\n",
        "  hh0_tr = modeli.evaluate(  train_images[:48000,:], to_categorical(train_labels[:48000]),verbose = 0)\n",
        "  hh0_val = modeli.evaluate(  train_images[48000:,:], to_categorical(train_labels[48000:]),verbose = 0)\n",
        "  # проводим обучение модели \n",
        "  hh = modeli.fit(\n",
        "                  train_images,\n",
        "                  to_categorical(train_labels),\n",
        "                  epochs=epochs,\n",
        "                  batch_size=32, validation_split=0.2, verbose = 0\n",
        "                  )\n",
        "  # картинки\n",
        "  plt.plot(epoch,np.log([hh0_tr[0]]+hh.history['loss']),'-',label = modeli.optimizer.get_config()['name']+' train')\n",
        "  plt.plot(epoch,np.log([hh0_val[0]]+hh.history['val_loss']),'--',label = modeli.optimizer.get_config()['name']+' val')\n",
        "plt.legend()\n",
        "plt.grid('On')\n",
        "\n",
        "plt.title('нейросети от оптимизатора log(loss)')\n",
        "plt.xlabel('epoch')\n",
        "plt.ylabel('log(loss)')\n",
        "plt.show()\n"
      ],
      "execution_count": 32,
      "outputs": [
        {
          "output_type": "display_data",
          "data": {
            "image/png": "[encoded data removed]",
            "text/plain": [
              "<Figure size 1152x504 with 1 Axes>"
            ]
          },
          "metadata": {
            "tags": [],
            "needs_background": "light"
          }
        }
      ]
    },
    {
      "cell_type": "code",
      "metadata": {
        "colab": {
          "base_uri": "https://localhost:8080/"
        },
        "id": "viS_E5s6z2UU",
        "outputId": "5129f30f-4634-4234-ca2e-bb652ab5f4f1"
      },
      "source": [
        " modeli.optimizer.get_config()"
      ],
      "execution_count": 33,
      "outputs": [
        {
          "output_type": "execute_result",
          "data": {
            "text/plain": [
              "{'beta_1': 0.9,\n",
              " 'beta_2': 0.999,\n",
              " 'decay': 0.004,\n",
              " 'epsilon': 1e-07,\n",
              " 'learning_rate': 0.001,\n",
              " 'name': 'Nadam'}"
            ]
          },
          "metadata": {
            "tags": []
          },
          "execution_count": 33
        }
      ]
    },
    {
      "cell_type": "markdown",
      "metadata": {
        "id": "eUVhmimFvp-k"
      },
      "source": [
        "Посмотрим на результат предсказаний  (inference) для обученной модели (последняя в цикле)"
      ]
    },
    {
      "cell_type": "code",
      "metadata": {
        "colab": {
          "base_uri": "https://localhost:8080/",
          "height": 208
        },
        "id": "wj7fhqd3FKFe",
        "outputId": "dea88378-143e-4b6c-89d3-dd1874e9061f"
      },
      "source": [
        "N = 5\n",
        "y_pred = modeli.predict(test_images[:N,:])\n",
        "y_pred_class = np.argmax(y_pred,axis=1)\n",
        "plt.figure(figsize =(3*N,5))\n",
        "for i in range(N):\n",
        "  plt.subplot(1,N,i+1)\n",
        "  plt.imshow(test_images[i,:].reshape(28,28))\n",
        "  plt.xlabel(str(y_pred_class[i]))\n",
        "plt.show()  "
      ],
      "execution_count": 34,
      "outputs": [
        {
          "output_type": "display_data",
          "data": {
            "image/png": "[encoded data removed]",
            "text/plain": [
              "<Figure size 1080x360 with 5 Axes>"
            ]
          },
          "metadata": {
            "tags": [],
            "needs_background": "light"
          }
        }
      ]
    },
    {
      "cell_type": "code",
      "metadata": {
        "colab": {
          "base_uri": "https://localhost:8080/"
        },
        "id": "Q561c6eaGxcB",
        "outputId": "36d51645-bc6a-4c87-9ff7-8580fd0c81ae"
      },
      "source": [
        "y_pred_class"
      ],
      "execution_count": 35,
      "outputs": [
        {
          "output_type": "execute_result",
          "data": {
            "text/plain": [
              "array([7, 2, 1, 0, 4])"
            ]
          },
          "metadata": {
            "tags": []
          },
          "execution_count": 35
        }
      ]
    },
    {
      "cell_type": "markdown",
      "metadata": {
        "id": "ws3OtgYMfpXI"
      },
      "source": [
        "Вариант синтаксиса:"
      ]
    },
    {
      "cell_type": "code",
      "metadata": {
        "colab": {
          "base_uri": "https://localhost:8080/"
        },
        "id": "IvO2kuDRerfX",
        "outputId": "256a37b4-0c6d-4495-f1ac-4ce8412a9879"
      },
      "source": [
        "y_predi = modeli(test_images[:N,:])\n",
        "np.argmax(y_predi,axis=1)"
      ],
      "execution_count": 36,
      "outputs": [
        {
          "output_type": "execute_result",
          "data": {
            "text/plain": [
              "array([7, 2, 1, 0, 4])"
            ]
          },
          "metadata": {
            "tags": []
          },
          "execution_count": 36
        }
      ]
    },
    {
      "cell_type": "markdown",
      "metadata": {
        "id": "NRSQbmXD9U98"
      },
      "source": [
        "## Практическое задание\n",
        "\n",
        "Используем набор примеров fashion-MNIST\n",
        "\n",
        "1.  Опишите - какой результата получен в нейросети в зависимости от:\n",
        "  -  числа нейронов в слое(для 2-хслойной сети), \n",
        "  - числа слоев (2, 3, 5, 10) при близких размерах сети (близкое число тренируемых парметров).\n",
        "  - фиксируйте для тренировочного и тестового набора метрики accuracy.\n",
        "2.  Проверьте работу разных оптимизаторов (SGD, Adam, RMSProp) для одной из моделей п.1.Фиксируйте для тренировочного и тестового набора метрики accuracy.\n",
        "\n",
        "3. Сделайте вывод - что помогло вам улучшить качество классификации в нейросети на тестовом наборе? \n",
        "\n",
        "4. Для одного варианта сетей сформируйте матрицу ошибок по классам. Оцените качество модели по каждому классу отдельно (полнота , точность). Сделайте вывод."
      ]
    },
    {
      "cell_type": "markdown",
      "metadata": {
        "id": "HN8DNX38v4JC"
      },
      "source": [
        "Загрузка Fashion_MNIST"
      ]
    },
    {
      "cell_type": "code",
      "metadata": {
        "id": "lzui-f-AMxXM"
      },
      "source": [
        "from keras.datasets import fashion_mnist\n"
      ],
      "execution_count": 37,
      "outputs": []
    },
    {
      "cell_type": "code",
      "metadata": {
        "id": "cnrrzpi6NBLV",
        "colab": {
          "base_uri": "https://localhost:8080/"
        },
        "outputId": "47b777d5-5f01-409a-a3a0-5bd1071fee32"
      },
      "source": [
        "(train_imagef,train_labelf),(test_imagef,test_labelf)=fashion_mnist.load_data()"
      ],
      "execution_count": 38,
      "outputs": [
        {
          "output_type": "stream",
          "text": [
            "Downloading data from https://storage.googleapis.com/tensorflow/tf-keras-datasets/train-labels-idx1-ubyte.gz\n",
            "32768/29515 [=================================] - 0s 0us/step\n",
            "40960/29515 [=========================================] - 0s 0us/step\n",
            "Downloading data from https://storage.googleapis.com/tensorflow/tf-keras-datasets/train-images-idx3-ubyte.gz\n",
            "26427392/26421880 [==============================] - 0s 0us/step\n",
            "26435584/26421880 [==============================] - 0s 0us/step\n",
            "Downloading data from https://storage.googleapis.com/tensorflow/tf-keras-datasets/t10k-labels-idx1-ubyte.gz\n",
            "16384/5148 [===============================================================================================] - 0s 0us/step\n",
            "Downloading data from https://storage.googleapis.com/tensorflow/tf-keras-datasets/t10k-images-idx3-ubyte.gz\n",
            "4423680/4422102 [==============================] - 0s 0us/step\n",
            "4431872/4422102 [==============================] - 0s 0us/step\n"
          ],
          "name": "stdout"
        }
      ]
    },
    {
      "cell_type": "code",
      "metadata": {
        "colab": {
          "base_uri": "https://localhost:8080/",
          "height": 265
        },
        "id": "HgkWr0rjE47r",
        "outputId": "462d5c7f-bed5-42b3-966d-bd40bbc3faa1"
      },
      "source": [
        "plt.imshow(train_imagef[1501,:,:])\n",
        "plt.show()"
      ],
      "execution_count": 39,
      "outputs": [
        {
          "output_type": "display_data",
          "data": {
            "image/png": "[encoded data removed]",
            "text/plain": [
              "<Figure size 432x288 with 1 Axes>"
            ]
          },
          "metadata": {
            "tags": [],
            "needs_background": "light"
          }
        }
      ]
    },
    {
      "cell_type": "markdown",
      "metadata": {
        "id": "m2wW13WB9U99"
      },
      "source": [
        "## Дополнительные материалы\n",
        "\n",
        "<ol>\n",
        "    <li>https://keras.io/</li>\n",
        "</ol>"
      ]
    },
    {
      "cell_type": "markdown",
      "metadata": {
        "id": "v6h1K5ET9U9_"
      },
      "source": [
        "## Используемая литература \n",
        "\n",
        "Для подготовки данного методического пособия были использованы следующие ресурсы:\n",
        "<ol>\n",
        "    <li>https://keras.io/</li>\n",
        "    <li>Шакла Н. — Машинное обучение и TensorFlow 2019</li>\n",
        "    <li>Саймон Хайкин — Нейронные сети: полный курс</li>\n",
        "    <li>Википедия</li>\n",
        "    \n",
        "</ol>"
      ]
    },
    {
      "cell_type": "code",
      "metadata": {
        "id": "TZa4ediT9U-B"
      },
      "source": [
        ""
      ],
      "execution_count": 39,
      "outputs": []
    }
  ]
}